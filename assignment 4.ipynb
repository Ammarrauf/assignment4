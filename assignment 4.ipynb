{
 "cells": [
  {
   "cell_type": "code",
   "execution_count": 10,
   "id": "6de4f404",
   "metadata": {},
   "outputs": [
    {
     "name": "stdout",
     "output_type": "stream",
     "text": [
      "Enter operation sign:+\n",
      "Enter your first number: 8\n",
      "Enter your second number: 6\n",
      "14\n"
     ]
    }
   ],
   "source": [
    "operation = input('Enter operation sign:')\n",
    "\n",
    "num1 = int(input('Enter your first number: '))\n",
    "num2 = int(input('Enter your second number: '))\n",
    "\n",
    "if operation == '+':\n",
    "    print(num1 + num2)\n",
    "\n",
    "elif operation == '-':\n",
    "    print(num1 - num2)\n",
    "\n",
    "elif operation == '*':\n",
    "    print(num1 * num2)\n",
    "\n",
    "elif operation == '/':\n",
    "    print(num1 / num2)\n",
    "    \n",
    "elif operation == '^':\n",
    "    print(num1 ^ num2)\n",
    "\n",
    "else:\n",
    "    print('Please enter correct sign')"
   ]
  },
  {
   "cell_type": "code",
   "execution_count": 11,
   "id": "15ea615d",
   "metadata": {},
   "outputs": [
    {
     "name": "stdout",
     "output_type": "stream",
     "text": [
      "2\n",
      "5\n"
     ]
    }
   ],
   "source": [
    "list = [\"a\", \"b\", 2, \"c\",5] \n",
    "for i in list: \n",
    "    if type(i) == int: \n",
    "        print(i)"
   ]
  },
  {
   "cell_type": "code",
   "execution_count": 12,
   "id": "a8a8182a",
   "metadata": {},
   "outputs": [
    {
     "name": "stdout",
     "output_type": "stream",
     "text": [
      "{0: 7, 1: 14, 2: 21}\n",
      "{0: 7, 1: 14, 2: 21, 3: 28}\n"
     ]
    }
   ],
   "source": [
    "dict_a = {0:7 , 1:14 , 2:21}\n",
    "print (dict_a)\n",
    "dict_a.update ({3:28})\n",
    "print (dict_a)"
   ]
  },
  {
   "cell_type": "code",
   "execution_count": 13,
   "id": "0488d635",
   "metadata": {},
   "outputs": [
    {
     "name": "stdout",
     "output_type": "stream",
     "text": [
      "174\n"
     ]
    }
   ],
   "source": [
    "dict_b = {'a' : 66, 'b' : 54 , 'c' : -120, 'd' : 78, 'e' : 96}\n",
    "print (sum (dict_b. values ()))"
   ]
  },
  {
   "cell_type": "code",
   "execution_count": 14,
   "id": "4fbcb031",
   "metadata": {},
   "outputs": [
    {
     "name": "stdout",
     "output_type": "stream",
     "text": [
      "5 7 5 5 4 "
     ]
    }
   ],
   "source": [
    "org_list=[5,7,5,4,9,7,1,22,3,5,6,5,4]\n",
    "duplicate=[]\n",
    "for i in org_list:\n",
    "    if i not in duplicate:\n",
    "        duplicate.append(i)\n",
    "    else:\n",
    "        print(i,end=' ')"
   ]
  },
  {
   "cell_type": "code",
   "execution_count": 15,
   "id": "eae02ab3",
   "metadata": {},
   "outputs": [
    {
     "name": "stdout",
     "output_type": "stream",
     "text": [
      "Key is exists in the dictionary\n",
      "Key isnot exists in the dictionary\n"
     ]
    }
   ],
   "source": [
    "d = {1: 'a', 2: 'b', 3: 'c', 4: 'd', 5: 'e', 6: 'f'}\n",
    "def check_key(x):\n",
    "    if x in d:\n",
    "        print('Key is exists in the dictionary')\n",
    "    else:\n",
    "        print('Key isnot exists in the dictionary')\n",
    "check_key(3)\n",
    "check_key(7)"
   ]
  },
  {
   "cell_type": "code",
   "execution_count": null,
   "id": "d74ea8fd",
   "metadata": {},
   "outputs": [],
   "source": []
  },
  {
   "cell_type": "code",
   "execution_count": null,
   "id": "8ab1ba8c",
   "metadata": {},
   "outputs": [],
   "source": []
  },
  {
   "cell_type": "code",
   "execution_count": null,
   "id": "29fe141a",
   "metadata": {},
   "outputs": [],
   "source": []
  },
  {
   "cell_type": "code",
   "execution_count": null,
   "id": "98ae4d08",
   "metadata": {},
   "outputs": [],
   "source": []
  }
 ],
 "metadata": {
  "kernelspec": {
   "display_name": "Python 3 (ipykernel)",
   "language": "python",
   "name": "python3"
  },
  "language_info": {
   "codemirror_mode": {
    "name": "ipython",
    "version": 3
   },
   "file_extension": ".py",
   "mimetype": "text/x-python",
   "name": "python",
   "nbconvert_exporter": "python",
   "pygments_lexer": "ipython3",
   "version": "3.7.3"
  }
 },
 "nbformat": 4,
 "nbformat_minor": 5
}
